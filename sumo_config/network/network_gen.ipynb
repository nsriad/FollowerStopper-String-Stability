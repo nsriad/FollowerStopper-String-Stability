{
 "cells": [
  {
   "cell_type": "code",
   "execution_count": 1,
   "id": "660299bd",
   "metadata": {},
   "outputs": [
    {
     "name": "stdout",
     "output_type": "stream",
     "text": [
      "Files 'ring_road_nodes.xml' and 'ring_road_edges.xml' generated successfully!\n"
     ]
    }
   ],
   "source": [
    "import numpy as np\n",
    "\n",
    "# Parameters\n",
    "num_nodes = 40\n",
    "gap_between_nodes = 1000  # in meters\n",
    "\n",
    "# Calculate circle radius\n",
    "circumference = num_nodes * gap_between_nodes\n",
    "radius = circumference / (2 * np.pi)\n",
    "\n",
    "# Generate nodes\n",
    "nodes = []\n",
    "for i in range(num_nodes):\n",
    "    theta = (2 * np.pi * i) / num_nodes\n",
    "    x = radius * np.cos(theta)\n",
    "    y = radius * np.sin(theta)\n",
    "    nodes.append((f\"n{i}\", x, y))\n",
    "\n",
    "# Generate node XML\n",
    "nodes_xml = \"<?xml version='1.0' encoding='utf-8'?>\\n<nodes>\\n\"\n",
    "for node_id, x, y in nodes:\n",
    "    nodes_xml += f'    <node id=\"{node_id}\" x=\"{x:.2f}\" y=\"{y:.2f}\" />\\n'\n",
    "nodes_xml += \"</nodes>\"\n",
    "\n",
    "# Generate edges XML\n",
    "edges_xml = \"<?xml version='1.0' encoding='utf-8'?>\\n<edges>\\n\"\n",
    "for i in range(num_nodes):\n",
    "    from_node = f\"n{i}\"\n",
    "    to_node = f\"n{(i + 1) % num_nodes}\"  # wrap around to n0\n",
    "    edges_xml += f'    <edge id=\"e{i}\" from=\"{from_node}\" to=\"{to_node}\" />\\n'\n",
    "edges_xml += \"</edges>\"\n",
    "\n",
    "# Write to files\n",
    "node_output_file = '/home/ruby/Nazmus Shakib/AARC Lab/String_stability_project/sumo_config/network/ring_network/ring.nod.xml'\n",
    "edge_output_file = '/home/ruby/Nazmus Shakib/AARC Lab/String_stability_project/sumo_config/network/ring_network/ring.edg.xml'\n",
    "\n",
    "with open(node_output_file, \"w\") as f_nodes:\n",
    "    f_nodes.write(nodes_xml)\n",
    "\n",
    "with open(edge_output_file, \"w\") as f_edges:\n",
    "    f_edges.write(edges_xml)\n",
    "\n",
    "print(\"Files 'ring_road_nodes.xml' and 'ring_road_edges.xml' generated successfully!\")\n"
   ]
  }
 ],
 "metadata": {
  "kernelspec": {
   "display_name": "base",
   "language": "python",
   "name": "python3"
  },
  "language_info": {
   "codemirror_mode": {
    "name": "ipython",
    "version": 3
   },
   "file_extension": ".py",
   "mimetype": "text/x-python",
   "name": "python",
   "nbconvert_exporter": "python",
   "pygments_lexer": "ipython3",
   "version": "3.10.17"
  }
 },
 "nbformat": 4,
 "nbformat_minor": 5
}
